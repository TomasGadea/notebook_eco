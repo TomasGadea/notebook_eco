{
 "cells": [
  {
   "cell_type": "markdown",
   "metadata": {},
   "source": [
    "# ECO REMOVAL"
   ]
  },
  {
   "cell_type": "markdown",
   "metadata": {},
   "source": [
    "## Authors:\n",
    "#### * Cortada Garcia, Martí\n",
    "#### * Gadea Alcaide, Tomàs\n",
    "#### * Matas Albiol, Pau\n",
    "#### * Poch Soler, Jofre"
   ]
  },
  {
   "cell_type": "markdown",
   "metadata": {},
   "source": [
    "### Setup:"
   ]
  },
  {
   "cell_type": "code",
   "execution_count": 1,
   "metadata": {},
   "outputs": [],
   "source": [
    "# numerical\n",
    "import scipy.io\n",
    "import scipy.signal\n",
    "from scipy.signal import convolve, correlate, argrelextrema\n",
    "import numpy as np\n",
    "# plotting\n",
    "import matplotlib.pyplot as plt\n",
    "%matplotlib notebook\n",
    "# sound modules\n",
    "import sounddevice as sd\n",
    "from scipy.io import wavfile\n",
    "import wave\n",
    "# warnings\n",
    "import warnings\n",
    "warnings.filterwarnings('ignore')  # shut warnings"
   ]
  },
  {
   "cell_type": "markdown",
   "metadata": {},
   "source": [
    "### Loading files:"
   ]
  },
  {
   "cell_type": "code",
   "execution_count": 2,
   "metadata": {},
   "outputs": [],
   "source": [
    "ifile = wave.open(\"eco4.wav\")\n",
    "samples = ifile.getnframes()\n",
    "audio = ifile.readframes(samples)\n",
    "\n",
    "# Convert buffer to float32 using NumPy                                                                                 \n",
    "audio_as_np_int16 = np.frombuffer(audio, dtype=np.int16)\n",
    "audio_as_np_float32 = audio_as_np_int16.astype(np.float32)\n",
    "\n",
    "# Normalise float32 array so that values are between -1.0 and +1.0                                                      \n",
    "max_int16 = 2**15\n",
    "wav = audio_as_np_float32 / max_int16\n",
    "\n",
    "sd.play(wav)"
   ]
  },
  {
   "cell_type": "markdown",
   "metadata": {},
   "source": [
    "### Brief introduction: System modeling"
   ]
  },
  {
   "cell_type": "markdown",
   "metadata": {},
   "source": [
    "We have a signal with echo, let's denote it by $y(t)$, which is the result of recording a signal $x(t)$ (also called _directa_ ) plus another signal produced by reflecting this signal in a point of the room, which arrives at the microphone a bit delayed and attenuated than _directa_ as the path till reach the microphone is larger. \n",
    "The output can be modeled as the output of a LTI system, whose input is $x(t)$:\n",
    "$$y(t)=x(t)+\\alpha x(t-T)$$\n",
    "where:\n",
    "* $\\alpha$ is the attenuation, ($0<\\alpha <1$)\n",
    "* $T$ is the echo delay\n",
    "\n",
    "We sample the signal with a frequency $f_s$ and obtein:\n",
    "$$y[n]=x[n]+\\alpha x[n-N]$$\n",
    "where we will suppose $N=Tf_s\\in\\mathbb{Z}$, for simplicity. "
   ]
  },
  {
   "cell_type": "markdown",
   "metadata": {},
   "source": [
    "# Cancelator"
   ]
  },
  {
   "cell_type": "markdown",
   "metadata": {},
   "source": [
    "## Question a)"
   ]
  },
  {
   "cell_type": "markdown",
   "metadata": {},
   "source": [
    "We know that the input-output equation corresponts to a LTI system. So, if we can deduce its impulse response $h_1[n]$:\n",
    "$$\\boxed{h_1[n]=\\delta[n]+\\alpha\\delta[n-N]}$$\n",
    "We can prove it:\n",
    "As it is a LTI system, we can compute the output:\n",
    "$$\\begin{align}\n",
    "y[n]&=x[n]*h_1[n]=x[n]*(\\delta[n]+\\alpha\\delta[n-N])=\\text{\\{apply distributive property of convolution\\}}\\\\\n",
    "    &=x[n]*\\delta[n]+x[n]*\\alpha\\delta[n-N]=x[n]+\\alpha x[n-N]\\\\\n",
    "\\end{align}$$\n",
    "Let's see the plot of $h_1[n]$:"
   ]
  },
  {
   "cell_type": "code",
   "execution_count": 13,
   "metadata": {
    "slideshow": {
     "slide_type": "-"
    }
   },
   "outputs": [
    {
     "data": {
      "text/plain": [
       "<StemContainer object of 3 artists>"
      ]
     },
     "execution_count": 13,
     "metadata": {},
     "output_type": "execute_result"
    },
    {
     "data": {
      "image/png": "[encoded data removed]",
      "text/plain": [
       "<Figure size 432x144 with 1 Axes>"
      ]
     },
     "metadata": {
      "needs_background": "light"
     },
     "output_type": "display_data"
    }
   ],
   "source": [
    "plt.close('all')\n",
    "plt.figure(figsize=(6,2))\n",
    "xaxis = ['-infinity','...','-1','0','1','...','N-1','N','N+1','...','infinity']\n",
    "plt.xticks(range(-4,7), xaxis)\n",
    "yaxis = ['0','...','alpha','...','1','...']\n",
    "plt.yticks([0.0, 0.25, 0.5, 0.75, 1.0, 1.25], yaxis)\n",
    "deltas = np.array([0,0,0,1,0,0,0,0.5,0,0,0])\n",
    "plt.stem(range(-4,7), deltas)"
   ]
  },
  {
   "cell_type": "markdown",
   "metadata": {},
   "source": [
    "## Question b)"
   ]
  },
  {
   "cell_type": "markdown",
   "metadata": {},
   "source": [
    "Now, we should use the following system in order to cancel the echo, characterized by the equation:\n",
    "$$z[n]=y[n]-\\beta z[n-N]$$\n",
    "and we would like to find the impulse response $h_2[n]$:"
   ]
  },
  {
   "cell_type": "markdown",
   "metadata": {},
   "source": [
    "We see that this equation has a **recursive part**: the output signal can be interpreted as a linear combination of the input signal and delayed copies of the output signal itself. \n",
    "* $N$ is the delay in which echo arrives, always non-negative since the path is larger that the direct path. So: $N\\geq0$\n",
    "\n",
    "This case can be solved using finite difference equations (EDFs). We will suppose that initial conditions are nul: $z[-1]=z[-2]=...=z[-N]=0$. In order to find the impulse response $h_2[n]$ we will put in the input signal $y[n]=\\delta[n]$. So, let's proceed giving some values:"
   ]
  },
  {
   "cell_type": "markdown",
   "metadata": {},
   "source": [
    "$$h[0]=\\delta[0]-\\beta h[-N]=1 \\hspace{1cm} \\text{(recall that IC are nul)}$$\n",
    "$$h[1]=\\delta[1]-\\beta h[1-N]=0$$\n",
    "$$...=0$$\n",
    "$$h[N]=\\delta[N]-\\beta h[N-N]=0-\\beta$$\n",
    "$$...=0$$\n",
    "$$h[2N]=\\delta[2N]-\\beta h[2N-N]=0+\\beta^2$$\n",
    "$$...=0$$\n",
    "$$h[kN]=\\delta[kN]-\\beta h[kN-N]=0+(-\\beta)^k$$\n",
    "$$...$$\n",
    "$$\\text{so we can deduce the impulse response:}$$\n",
    "$$\\downarrow$$\n",
    "$$\\boxed{h_2[n]=\\sum_{k=0}^{\\infty}(-\\beta)^k\\delta[n-kN]}$$"
   ]
  },
  {
   "cell_type": "markdown",
   "metadata": {},
   "source": [
    "## Question c)"
   ]
  },
  {
   "cell_type": "markdown",
   "metadata": {},
   "source": [
    "Now, we would like to find which equation should $h_1[n]$ and $h_2[n]$ follow in order to get the following equality $z[n]=x[n]$, that is, to cancel the echo completely."
   ]
  },
  {
   "cell_type": "markdown",
   "metadata": {},
   "source": [
    "We will use the following properties to develop our reasoning in the following sections:\n",
    "* $\\delta[n]*x[n]=x[n]$\n",
    "* $\\delta[n]*\\delta[n-N]=\\delta[n-N]$\n",
    "* $\\delta[n-N_1]*\\delta[n-N_2]=\\delta[n-N_1-N_2]$\n",
    "* important to take into account the results we got from the previous sections: \n",
    "$$y[n]=x[n]*h_1[n],\\hspace{0.3cm}z[n]=y[n]*h_2[n],\\hspace{0.3cm}h_1[n]=\\delta[n]+\\alpha\\delta[n-N],\\hspace{0.3cm}h_2[n]=\\sum_{k=0}^{\\infty}(-\\beta)^k\\delta[n-kN]$$"
   ]
  },
  {
   "cell_type": "markdown",
   "metadata": {},
   "source": [
    "$$\\begin{align}\n",
    "z[n]&=y[n]*h_2[n]=\\text{\\{by definition of }y[n]\\}\\\\\n",
    "    &=x[n]*h_1[n]*h_2[n]\n",
    "\\end{align}$$"
   ]
  },
  {
   "cell_type": "markdown",
   "metadata": {},
   "source": [
    "So, if we want $z[n]=x[n]$, then, $h_1[n]*h_2[n]=\\delta[n]$ ($\\delta$ has to behave as identity). Therefore, we conclude:\n",
    "$$\\boxed{z[n]=x[n]\\hspace{0.4cm}\\text{iff}\\hspace{0.4cm} h_1[n]*h_2[n]=\\delta[n]}$$"
   ]
  },
  {
   "cell_type": "markdown",
   "metadata": {},
   "source": [
    "So, in the following question we will develop this condition in order to fin $\\beta$ as a function of $\\alpha$."
   ]
  },
  {
   "cell_type": "markdown",
   "metadata": {},
   "source": [
    "## Question d)"
   ]
  },
  {
   "cell_type": "markdown",
   "metadata": {},
   "source": [
    "Now, we want to calculate $\\beta$ as a function of $\\alpha$ to cancel the echo. Let's try to develop $h_1[n]*h_2[n]$ and prove we get $\\delta[n]$ as a result."
   ]
  },
  {
   "cell_type": "markdown",
   "metadata": {},
   "source": [
    "$$\\begin{align}\n",
    "h_1[n]*h_2[n]&=(\\delta[n]+\\alpha\\delta[n-N])*(\\sum_{k=0}^{\\infty}(-\\beta)^k\\delta[n-kN])=\\text{\\{apply distributive property of convolution\\}}\\\\\n",
    "             &=\\sum_{k=0}^{\\infty}(-\\beta)^k\\delta[n-kN])+\\alpha(\\sum_{k=0}^{\\infty}(-\\beta)^k\\delta[n-(i+1)N])=\\text{\\{and develop the sumations\\}}\\\\\n",
    "             &=\\delta[n]\\boxed{-\\beta\\delta[n-N]+\\beta^2\\delta[n-2N]-\\beta^3\\delta[n-3N]+...+}\\\\\n",
    "             &\\hspace{1.3cm}\\boxed{+\\alpha\\delta[n-N]-\\alpha\\beta\\delta[n-2N]+\\alpha\\beta^2\\delta[n-3N]-...}\\\\\n",
    "\\end{align}$$"
   ]
  },
  {
   "cell_type": "markdown",
   "metadata": {},
   "source": [
    "and we can check that **if $\\boxed{\\alpha=\\beta}$, both boxed parts will cancel and will remain $\\delta[n]$, which was what we wanted to demonstrate!**\n",
    "$$Q.E.D$$"
   ]
  },
  {
   "cell_type": "markdown",
   "metadata": {},
   "source": [
    "# Echo parameter estimation"
   ]
  },
  {
   "cell_type": "markdown",
   "metadata": {},
   "source": [
    "## Question e)"
   ]
  },
  {
   "cell_type": "markdown",
   "metadata": {},
   "source": [
    "We are asked to check that $R_{yy}[m]=(1+\\alpha^2)R_{xx}[m]+\\alpha R_{xx}[m-N]+\\alpha R_{xx}[m+N]$. To do so, we will apply the autocorrelation definition (reminding that $y[n]=x[n]+\\alpha x[n-N]$ and the importance of change of variables ( _variables mudas_ )).\n",
    "$$\\begin{align}\n",
    "R_{yy}[m]&=\\sum_{n=-\\infty}^{\\infty} y[n+m]y^*[n]=\\text{\\{by definition of }y[n]\\text{\\}}\\\\\n",
    "         &=\\sum_{n=-\\infty}^{\\infty} ((x[n+m]+\\alpha x[n+m-N])·(x^*[n]+\\alpha x^*[n-N]))\n",
    "\\end{align}$$"
   ]
  },
  {
   "cell_type": "markdown",
   "metadata": {},
   "source": [
    "and developing the products we obtain:\n",
    "* $\\sum_{n=-\\infty}^{\\infty} (x[n+m]x^*[n])=R_{xx}[m]$\n",
    "* $\\sum_{n=-\\infty}^{\\infty} (x[n+m]\\alpha x^*[n-N])=\\text{\\{let }k=n-N\\}=\\alpha\\sum_{k=-\\infty}^{\\infty}x[k+N+m]x^*[k]=\\alpha R_{xx}[m+N]$\n",
    "* $\\sum_{n=-\\infty}^{\\infty}\\alpha x[n+m-N]x^*[n]=\\alpha R_{xx}[m-N]$\n",
    "* $\\sum_{n=-\\infty}^{\\infty}\\alpha^2x[n+m-N]x^*[n-N]=\\text{\\{let }k=n-N\\}=\\alpha^2\\sum_{k=-\\infty}^{\\infty}x[k+m]x^*[k]=\\alpha^2R_{xx}[m]$"
   ]
  },
  {
   "cell_type": "markdown",
   "metadata": {},
   "source": [
    "where adding the past results we obtain what we wanted to demonstrate:\n",
    "$$\\begin{align}\n",
    "\\boxed{R_{yy}[m]}&=R_{xx}[m]+\\alpha R_{xx}[m+N]+\\alpha R_{xx}[m-N]+\\alpha^2R_{xx}[m]=\\text{\\{simplifying\\}}\\\\\n",
    "                 &=\\boxed{(1+\\alpha^2)R_{xx}[m]+\\alpha R_{xx}[m-N]+\\alpha R_{xx}[m+N]}\n",
    "\\end{align}$$"
   ]
  },
  {
   "cell_type": "markdown",
   "metadata": {},
   "source": [
    "$$\\quad Q.E.D.$$"
   ]
  },
  {
   "cell_type": "markdown",
   "metadata": {},
   "source": [
    "## Question f)"
   ]
  },
  {
   "cell_type": "markdown",
   "metadata": {},
   "source": [
    "Now, we want to find which equations we should solve in order to find $\\alpha$ and $N$ from $R_{yy}[m]$.\n",
    "We will take into account:\n",
    "* $0<\\alpha <1$\n",
    "* $R_{xx}[N]<<R_{xx}[0]$\n",
    "* In this case, $R_{xx}[m]$ will have maximums in $m=0$ and $m=\\pm N$."
   ]
  },
  {
   "cell_type": "markdown",
   "metadata": {},
   "source": [
    "We will make some aproximations considering the past properties in the equation $R_{yy}[m]=(1+\\alpha^2)R_{xx}[m]+\\alpha R_{xx}[m-N]+\\alpha R_{xx}[m+N]$:\n",
    "* $R_{yy}[-N]=\\alpha R_{xx}[0]\\hspace{16cm}$ (i) \n",
    "* $R_{yy}[0]=(1+\\alpha^2)R_{xx}[0]\\hspace{15.2cm}$ (ii)\n",
    "* $R_{yy}[N]=\\alpha R_{xx}[0]\\hspace{16.4cm}$ (iii)"
   ]
  },
  {
   "cell_type": "markdown",
   "metadata": {},
   "source": [
    "Dividing (ii)/(iii) we get:\n",
    "$$\\frac{R_{yy}[0]}{R_{yy}[N]}=\\frac{(1+\\alpha^2)}{\\alpha}$$\n",
    "we will isolate $\\alpha$ and from the two possible solutions we will get the one that $\\alpha <1$. For simplicity, let's call $\\lambda=\\frac{R_{yy}[0]}{R_{yy}[N]}$ and solve:\n",
    "$$\\alpha\\lambda=1+\\alpha^2\\to\\alpha^2-\\lambda\\alpha+1=0$$\n",
    "$$\\alpha=\\frac{\\lambda\\pm\\sqrt{\\lambda^2-4}}{2}$$\n",
    "so we can write:\n",
    "$$(\\alpha-\\frac{\\lambda+\\sqrt{\\lambda^2-4}}{2})(\\alpha-\\frac{\\lambda-\\sqrt{\\lambda^2-4}}{2})=0$$\n",
    "and we know that **the multiplication of the roots is the independent term** and $\\lambda=\\frac{R_{yy}[0]}{R_{yy}[N]}>2$ (because it has a real solution iff $\\lambda\\geq 2$, but $\\lambda\\neq 2$ since $\\alpha$ would be 1 and it is defined $\\in(0,1)$), so as the roots can not be equal to 1:\n",
    "* $(\\frac{\\lambda+\\sqrt{\\lambda^2-4}}{2})>1$\n",
    "* $(\\frac{\\lambda-\\sqrt{\\lambda^2-4}}{2})<1$\n",
    "\n",
    "and we wanted the solution $<1$, therefore:\n",
    "$$\\begin{align}\n",
    "\\boxed{\\alpha}&=\\frac{\\lambda-\\sqrt{\\lambda^2-4}}{2}=\\{\\lambda=\\frac{R_{yy}[0]}{R_{yy}[N]}\\}\\\\\n",
    "      &=\\boxed{\\frac{\\frac{R_{yy}[0]}{R_{yy}[N]}-\\sqrt{(\\frac{R_{yy}[0]}{R_{yy}[N]})^2-4}}{2}}\n",
    "\\end{align}$$"
   ]
  },
  {
   "cell_type": "markdown",
   "metadata": {},
   "source": [
    "# Application of a real case"
   ]
  },
  {
   "cell_type": "markdown",
   "metadata": {},
   "source": [
    "## Question g)"
   ]
  },
  {
   "cell_type": "markdown",
   "metadata": {},
   "source": [
    "As is demanded, to find $\\alpha$ and $N$ firstly we calculate the given wave's autocorrelation:"
   ]
  },
  {
   "cell_type": "code",
   "execution_count": 8,
   "metadata": {},
   "outputs": [
    {
     "data": {
      "text/plain": [
       "[<matplotlib.lines.Line2D at 0x7f8435aff490>]"
      ]
     },
     "execution_count": 8,
     "metadata": {},
     "output_type": "execute_result"
    },
    {
     "data": {
      "image/png": "[encoded data removed]",
      "text/plain": [
       "<Figure size 432x288 with 1 Axes>"
      ]
     },
     "metadata": {
      "needs_background": "light"
     },
     "output_type": "display_data"
    }
   ],
   "source": [
    "plt.close(\"all\")\n",
    "autocorr = correlate(wav,wav)\n",
    "plt.xticks([])\n",
    "plt.plot(autocorr)"
   ]
  },
  {
   "cell_type": "markdown",
   "metadata": {},
   "source": [
    "Then, as we know that $N$ is the position of the second larger maximum.\n",
    "\n",
    "So we find it and print its value.\n",
    "\n",
    "In this case $8820$."
   ]
  },
  {
   "cell_type": "code",
   "execution_count": 9,
   "metadata": {},
   "outputs": [
    {
     "data": {
      "text/plain": [
       "8820"
      ]
     },
     "execution_count": 9,
     "metadata": {},
     "output_type": "execute_result"
    }
   ],
   "source": [
    "orig = np.argmax(autocorr)\n",
    "maxs_id = argrelextrema(autocorr, np.greater)[0]\n",
    "\n",
    "maxs_val = []\n",
    "for i in maxs_id:\n",
    "    if i != orig:\n",
    "        maxs_val = np.append(maxs_val, autocorr[i])\n",
    "\n",
    "N = abs(maxs_id[np.argmax(maxs_val)]-orig)\n",
    "N"
   ]
  },
  {
   "cell_type": "markdown",
   "metadata": {},
   "source": [
    "Finaly, we aply the formula found in question f to calculate $\\alpha$.\n",
    "\n",
    "In this case $\\alpha = 0.6870095569756451$."
   ]
  },
  {
   "cell_type": "code",
   "execution_count": 10,
   "metadata": {},
   "outputs": [
    {
     "data": {
      "text/plain": [
       "0.6870095569756451"
      ]
     },
     "execution_count": 10,
     "metadata": {},
     "output_type": "execute_result"
    }
   ],
   "source": [
    "alpha = (  (autocorr[orig]/autocorr[orig+N]) - np.sqrt( ((autocorr[orig]/autocorr[orig+N])**2) -4)  ) /2\n",
    "alpha"
   ]
  },
  {
   "cell_type": "markdown",
   "metadata": {},
   "source": [
    "## Question h)"
   ]
  },
  {
   "cell_type": "markdown",
   "metadata": {},
   "source": [
    "Finaly, to remove the signal's echo we have to filter the original signal ```wav``` with the pulse ```h1``` (ploted below)."
   ]
  },
  {
   "cell_type": "code",
   "execution_count": 15,
   "metadata": {},
   "outputs": [
    {
     "data": {
      "text/plain": [
       "<StemContainer object of 3 artists>"
      ]
     },
     "execution_count": 15,
     "metadata": {},
     "output_type": "execute_result"
    },
    {
     "data": {
      "image/png": "[encoded data removed]",
      "text/plain": [
       "<Figure size 432x144 with 1 Axes>"
      ]
     },
     "metadata": {
      "needs_background": "light"
     },
     "output_type": "display_data"
    }
   ],
   "source": [
    "plt.close('all')\n",
    "plt.figure(figsize=(6,2))\n",
    "xaxis = ['-infinity','...','-1','0','1','...','N-1','N','N+1','...','infinity']\n",
    "plt.xticks(range(-4,7), xaxis)\n",
    "yaxis = ['0','...','alpha','...','1','...']\n",
    "plt.yticks([0.0, 0.25, 0.5, 0.75, 1.0, 1.25], yaxis)\n",
    "deltas = np.array([0,0,0,1,0,0,0,0.5,0,0,0])\n",
    "plt.stem(range(-4,7), deltas)"
   ]
  },
  {
   "cell_type": "code",
   "execution_count": 14,
   "metadata": {},
   "outputs": [],
   "source": [
    "h1 = [1]+[0]*(N-2)+[alpha]\n",
    "filtered_wav = scipy.signal.lfilter([1], h1, wav, axis=- 1, zi=None)\n",
    "sd.play(filtered_wav)"
   ]
  },
  {
   "cell_type": "markdown",
   "metadata": {},
   "source": [
    "When we listen at it with ```sd.play()``` we find out that the echo has been removed."
   ]
  }
 ],
 "metadata": {
  "kernelspec": {
   "display_name": "Python 3",
   "language": "python",
   "name": "python3"
  },
  "language_info": {
   "codemirror_mode": {
    "name": "ipython",
    "version": 3
   },
   "file_extension": ".py",
   "mimetype": "text/x-python",
   "name": "python",
   "nbconvert_exporter": "python",
   "pygments_lexer": "ipython3",
   "version": "3.7.4"
  }
 },
 "nbformat": 4,
 "nbformat_minor": 4
}
